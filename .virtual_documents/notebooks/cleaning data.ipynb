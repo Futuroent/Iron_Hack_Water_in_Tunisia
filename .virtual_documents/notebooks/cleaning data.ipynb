import pandas as pd
import functions as func
import numpy as np
import yaml
import matplotlib.pyplot as plt
import seaborn as sns
import statsmodels.api as sm
from sklearn.model_selection import train_test_split
from sklearn.linear_model import LinearRegression
from sklearn.metrics import mean_squared_error, r2_score
from IPython.display import display



from functions import clean_data, feature_engineering, split_data, train_model, evaluate_model, plot_predictions, plot_distribution






# Paths to your two data files
tunis_dams_rain_data_path = '../data/raw/tunis_dams_rain_mehdi.csv'
weather_data_path = '../data/raw/weather.csv'

def load_data(file_path):
    """Loads CSV file into a pandas DataFrame."""
    return pd.read_csv(file_path)
tunis_dams_rain_data = load_data(tunis_dams_rain_data_path)
weather_data = load_data(weather_data_path)
# Display a preview of each dataset
display(tunis_dams_rain_data.head())
display(weather_data.head())



# Display dataset previews
def preview_data(df, name):
    """Displays the first 5 rows of a DataFrame."""
    print(f"Preview of {name}:")
    display(df.head())

preview_data(tunis_dams_rain_data, 'tunis_dams_rain_data')
preview_data(weather_data, 'weather_data')



# Check for missing values
def check_missing_values(df, name):
    print(f"Checking for missing values in {name}:")
    print(df.isnull().sum())

check_missing_values(tunis_dams_rain_data, 'tunis_dams_rain_data')
check_missing_values(weather_data, 'weather_data')



# Remove duplicates
def remove_duplicates(df, name):
    cleaned_df = df.drop_duplicates()
    print(f"{name} after removing duplicates:")
    display(cleaned_df.head())
    return cleaned_df

tunis_dams_rain_data_cleaned = remove_duplicates(tunis_dams_rain_data, 'tunis_dams_rain_data')
weather_data_cleaned = remove_duplicates(weather_data, 'weather_data')


# Check data types
def check_data_types(df, name):
    """Prints the data types of each column in a DataFrame."""
    print(f"Data types in {name}:")
    print(df.dtypes)

check_data_types(tunis_dams_rain_data_cleaned, 'tunis_dams_rain_data')
check_data_types(weather_data_cleaned, 'weather_data')



# Feature Engineering
def add_date_features(df, name):
    """Adds year, month, and day features from a 'date' column if present."""
    if 'date' in df.columns:
        df['Year'] = pd.DatetimeIndex(df['date']).year
        df['Month'] = pd.DatetimeIndex(df['date']).month
        df['Day'] = pd.DatetimeIndex(df['date']).day
        print(f"Added date features to {name}.")
    return df

def add_rainfall_feature(df):
    """Adds a cumulative rainfall feature if 'rainfall' column exists."""
    if 'rainfall' in df.columns:
        df['Cumulative_Rainfall'] = df['rainfall'].cumsum()
        print("Added 'Cumulative_Rainfall' feature.")
    return df

def add_temperature_change_feature(df):
    """Adds a temperature change feature if 'temperature' column exists."""
    if 'temperature' in df.columns:
        df['Temperature_Change'] = df['temperature'].diff()
        print("Added 'Temperature_Change' feature.")
    return df



tunis_dams_rain_data_cleaned = add_date_features(tunis_dams_rain_data_cleaned, 'tunis_dams_rain_data')
tunis_dams_rain_data_cleaned = add_rainfall_feature(tunis_dams_rain_data_cleaned)

weather_data_cleaned = add_date_features(weather_data_cleaned, 'weather_data')
weather_data_cleaned = add_temperature_change_feature(weather_data_cleaned)


# Preview the updated datasets
preview_data(tunis_dams_rain_data_cleaned, 'updated tunis_dams_rain_data')
preview_data(weather_data_cleaned, 'updated weather_data')



























# Step: Fill NaN values with 0

# Fill all NaN values in tunis_dams_rain_data with 0
tunis_dams_rain_data_cleaned = tunis_dams_rain_data_cleaned.fillna(0)

# Fill all NaN values in weather_data with 0
weather_data_cleaned = weather_data_cleaned.fillna(0)

# Display the datasets after handling NaN values
print("tunis_dams_rain_data after handling NaN values (filled with 0):")
display(tunis_dams_rain_data_cleaned.head())

print("\nweather_data after handling NaN values (filled with 0):")
display(weather_data_cleaned.head())




